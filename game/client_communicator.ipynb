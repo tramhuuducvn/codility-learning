{
 "cells": [
  {
   "cell_type": "code",
   "execution_count": 13,
   "id": "83376b53-adc1-4378-a186-5f52d8a840fd",
   "metadata": {
    "scrolled": true
   },
   "outputs": [],
   "source": [
    "from dotenv import load_dotenv\n",
    "from config import Config \n",
    "from message import Message, MoveMessage, SetPlayerNameMessage"
   ]
  },
  {
   "cell_type": "code",
   "execution_count": 14,
   "id": "5f245489-42ef-4c84-af50-acd504e91eb8",
   "metadata": {},
   "outputs": [
    {
     "data": {
      "text/plain": [
       "True"
      ]
     },
     "execution_count": 14,
     "metadata": {},
     "output_type": "execute_result"
    }
   ],
   "source": [
    "load_dotenv('./.env',override=True)"
   ]
  },
  {
   "cell_type": "code",
   "execution_count": 15,
   "id": "120c3456-bb94-4982-a526-7f93fd2b5c7d",
   "metadata": {},
   "outputs": [],
   "source": [
    "from client import Client\n",
    "import os\n",
    "from logs import log\n",
    "import socket\n",
    "from utils import send, receive \n",
    "\n",
    "class ClientCommunicator():\n",
    "    def __init__(self, host=None, port=None):\n",
    "\n",
    "        self.list_messages = [\n",
    "            \"\"\"To complete this game, you need to collect 2 units of wood and 2 units of fabric. Every 3 units of cotton can be converted into 1 unit of fabric.\"\"\",\n",
    "            \"\"\"Go home immediately, or you’ll die.\"\"\",\n",
    "            \"\"\"Go to the cell at (10, 18) to obtain one unit of fabric.\"\"\"\n",
    "        ]\n",
    "\n",
    "        self.host = host or os.environ.get('SERVER', '0.0.0.0')\n",
    "        self.port = port or int(os.environ.get('PORT', 4444))\n",
    "\n",
    "        log(f'Listern to {self.host}:{self.port}', '[CLIENT]')\n",
    "        \n",
    "        self.other_players = {}\n",
    "\n",
    "        self.client_socket = socket.socket(socket.AF_INET, socket.SOCK_STREAM)\n",
    "        self.client_socket.connect((self.host, self.port))\n",
    "        self.message = self.receive_message()\n",
    "        log(f\"Receive client from server: {self.message}\", '[Dispatcher]')\n",
    "\n",
    "    def send_message(self, msg: Message):\n",
    "        send(self.client_socket, msg)\n",
    "\n",
    "    def receive_message(self):\n",
    "        return receive(self.client_socket)\n",
    "        "
   ]
  },
  {
   "cell_type": "code",
   "execution_count": 16,
   "id": "cfaf5511-7af0-4563-aba6-e2bd001f8c3a",
   "metadata": {
    "scrolled": true
   },
   "outputs": [
    {
     "data": {
      "text/html": [
       "<pre style=\"white-space:pre;overflow-x:auto;line-height:normal;font-family:Menlo,'DejaVu Sans Mono',consolas,'Courier New',monospace\"><span style=\"color: #7fbfbf; text-decoration-color: #7fbfbf\">[14:43:12] </span><span style=\"color: #800080; text-decoration-color: #800080; font-weight: bold\">[CLIENT]</span> Listern to <span style=\"color: #00ff00; text-decoration-color: #00ff00; font-weight: bold\">0.0.0.0</span>:<span style=\"color: #008080; text-decoration-color: #008080; font-weight: bold\">11110</span>                                                             <span style=\"color: #7f7f7f; text-decoration-color: #7f7f7f\">logs.py:11</span>\n",
       "</pre>\n"
      ],
      "text/plain": [
       "\u001b[2;36m[14:43:12]\u001b[0m\u001b[2;36m \u001b[0m\u001b[1;35m[\u001b[0m\u001b[1;35mCLIENT\u001b[0m\u001b[1;35m]\u001b[0m Listern to \u001b[1;92m0.0.0.0\u001b[0m:\u001b[1;36m11110\u001b[0m                                                             \u001b[2mlogs.py\u001b[0m\u001b[2m:\u001b[0m\u001b[2m11\u001b[0m\n"
      ]
     },
     "metadata": {},
     "output_type": "display_data"
    },
    {
     "data": {
      "text/html": [
       "<pre style=\"white-space:pre;overflow-x:auto;line-height:normal;font-family:Menlo,'DejaVu Sans Mono',consolas,'Courier New',monospace\"><span style=\"color: #7fbfbf; text-decoration-color: #7fbfbf\">           </span><span style=\"color: #800080; text-decoration-color: #800080; font-weight: bold\">[Dispatcher]</span> Receive client from server: Connected                                            <span style=\"color: #7f7f7f; text-decoration-color: #7f7f7f\">logs.py:11</span>\n",
       "</pre>\n"
      ],
      "text/plain": [
       "\u001b[2;36m          \u001b[0m\u001b[2;36m \u001b[0m\u001b[1;35m[\u001b[0m\u001b[1;35mDispatcher\u001b[0m\u001b[1;35m]\u001b[0m Receive client from server: Connected                                            \u001b[2mlogs.py\u001b[0m\u001b[2m:\u001b[0m\u001b[2m11\u001b[0m\n"
      ]
     },
     "metadata": {},
     "output_type": "display_data"
    }
   ],
   "source": [
    "c = ClientCommunicator()"
   ]
  },
  {
   "cell_type": "code",
   "execution_count": 20,
   "id": "22b0571e-012f-486a-9c12-eb9bc76d93c6",
   "metadata": {},
   "outputs": [],
   "source": [
    "c.send_message(c.list_messages[0])"
   ]
  },
  {
   "cell_type": "code",
   "execution_count": 18,
   "id": "98b44636-b06b-434b-87ea-92320f5988bb",
   "metadata": {},
   "outputs": [],
   "source": [
    "# c.send_message(c.list_messages[1])"
   ]
  },
  {
   "cell_type": "code",
   "execution_count": null,
   "id": "c39d9e3f-9eb1-4992-b626-3a8bdcaa9ab4",
   "metadata": {},
   "outputs": [],
   "source": []
  },
  {
   "cell_type": "code",
   "execution_count": null,
   "id": "f2f1aa0a-5456-4b66-a51b-8129f6d47e5c",
   "metadata": {},
   "outputs": [],
   "source": []
  }
 ],
 "metadata": {
  "kernelspec": {
   "display_name": "Python Game (.venv)",
   "language": "python",
   "name": "game"
  },
  "language_info": {
   "codemirror_mode": {
    "name": "ipython",
    "version": 3
   },
   "file_extension": ".py",
   "mimetype": "text/x-python",
   "name": "python",
   "nbconvert_exporter": "python",
   "pygments_lexer": "ipython3",
   "version": "3.13.3"
  }
 },
 "nbformat": 4,
 "nbformat_minor": 5
}

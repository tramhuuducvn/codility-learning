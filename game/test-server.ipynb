{
 "cells": [
  {
   "cell_type": "code",
   "execution_count": 1,
   "id": "d55ba4e6-cc82-4871-8958-5e01eebc72f8",
   "metadata": {},
   "outputs": [
    {
     "name": "stdout",
     "output_type": "stream",
     "text": [
      "pygame 2.6.1 (SDL 2.28.4, Python 3.13.3)\n",
      "Hello from the pygame community. https://www.pygame.org/contribute.html\n"
     ]
    }
   ],
   "source": [
    "import socket\n",
    "from logs import log\n",
    "from dotenv import load_dotenv\n",
    "from player_test import Player_test\n",
    "import utils\n",
    "import datetime\n",
    "import time \n",
    "from pydantic import BaseModel\n",
    "\n",
    "class Server_test:\n",
    "    def __init__(self,  host=None, port=None):\n",
    "\n",
    "        self.host = '0.0.0.0'\n",
    "        self.port = 4442\n",
    "        log(f'Listern to {self.host}:{self.port}', '[SERVER]')\n",
    "        \n",
    "        self.server_socket = socket.socket(socket.AF_INET, socket.SOCK_STREAM)\n",
    "        self.server_socket.bind((self.host, self.port))\n",
    "        self.server_socket.listen(200)\n",
    "\n",
    "        client_socket, addr = self.server_socket.accept()\n",
    "        log(f\"New connection from addr: {addr}, client_socket: {client_socket}\", \"[SERVER]\")\n",
    "        \n",
    "        for i in range(100):\n",
    "            # time.sleep(0.0001)\n",
    "            player_test = Player_test(id=i)\n",
    "            player_test.message = ['1']*10000\n",
    "            player_test.last_updated = datetime.datetime.now().timestamp()\n",
    "\n",
    "            utils.send(client_socket, player_test)\n",
    "        client_socket.close()\n",
    "        self.server_socket.close()\n",
    "        "
   ]
  },
  {
   "cell_type": "code",
   "execution_count": 2,
   "id": "5d71ed15-8ff2-4217-bdb2-cb24f5ed7d2c",
   "metadata": {},
   "outputs": [
    {
     "data": {
      "text/html": [
       "<pre style=\"white-space:pre;overflow-x:auto;line-height:normal;font-family:Menlo,'DejaVu Sans Mono',consolas,'Courier New',monospace\"><span style=\"color: #7fbfbf; text-decoration-color: #7fbfbf\">[17:05:07] </span><span style=\"color: #800080; text-decoration-color: #800080; font-weight: bold\">[SERVER]</span> Listern to <span style=\"color: #00ff00; text-decoration-color: #00ff00; font-weight: bold\">0.0.0.0</span>:<span style=\"color: #008080; text-decoration-color: #008080; font-weight: bold\">4442</span>                                                              <span style=\"color: #7f7f7f; text-decoration-color: #7f7f7f\">logs.py:11</span>\n",
       "</pre>\n"
      ],
      "text/plain": [
       "\u001b[2;36m[17:05:07]\u001b[0m\u001b[2;36m \u001b[0m\u001b[1;35m[\u001b[0m\u001b[1;35mSERVER\u001b[0m\u001b[1;35m]\u001b[0m Listern to \u001b[1;92m0.0.0.0\u001b[0m:\u001b[1;36m4442\u001b[0m                                                              \u001b[2mlogs.py\u001b[0m\u001b[2m:\u001b[0m\u001b[2m11\u001b[0m\n"
      ]
     },
     "metadata": {},
     "output_type": "display_data"
    },
    {
     "data": {
      "text/html": [
       "<pre style=\"white-space:pre;overflow-x:auto;line-height:normal;font-family:Menlo,'DejaVu Sans Mono',consolas,'Courier New',monospace\"><span style=\"color: #7fbfbf; text-decoration-color: #7fbfbf\">[17:05:11] </span><span style=\"color: #800080; text-decoration-color: #800080; font-weight: bold\">[SERVER]</span> New connection from addr: <span style=\"font-weight: bold\">(</span><span style=\"color: #008000; text-decoration-color: #008000\">'127.0.0.1'</span>, <span style=\"color: #008080; text-decoration-color: #008080; font-weight: bold\">55843</span><span style=\"font-weight: bold\">)</span>, client_socket: <span style=\"font-weight: bold\">&lt;</span><span style=\"color: #ff00ff; text-decoration-color: #ff00ff; font-weight: bold\">socket.socket</span><span style=\"color: #000000; text-decoration-color: #000000\"> </span><span style=\"color: #808000; text-decoration-color: #808000\">fd</span><span style=\"color: #000000; text-decoration-color: #000000\">=</span><span style=\"color: #008080; text-decoration-color: #008080; font-weight: bold\">75</span><span style=\"color: #000000; text-decoration-color: #000000\">,</span> <span style=\"color: #7f7f7f; text-decoration-color: #7f7f7f\">logs.py:11</span>\n",
       "<span style=\"color: #7fbfbf; text-decoration-color: #7fbfbf\">           </span><span style=\"color: #808000; text-decoration-color: #808000\">family</span><span style=\"color: #000000; text-decoration-color: #000000\">=</span><span style=\"color: #008080; text-decoration-color: #008080; font-weight: bold\">2</span><span style=\"color: #000000; text-decoration-color: #000000\">, </span><span style=\"color: #808000; text-decoration-color: #808000\">type</span><span style=\"color: #000000; text-decoration-color: #000000\">=</span><span style=\"color: #008080; text-decoration-color: #008080; font-weight: bold\">1</span><span style=\"color: #000000; text-decoration-color: #000000\">, </span><span style=\"color: #808000; text-decoration-color: #808000\">proto</span><span style=\"color: #000000; text-decoration-color: #000000\">=</span><span style=\"color: #008080; text-decoration-color: #008080; font-weight: bold\">0</span><span style=\"color: #000000; text-decoration-color: #000000\">, </span><span style=\"color: #808000; text-decoration-color: #808000\">laddr</span><span style=\"color: #000000; text-decoration-color: #000000\">=</span><span style=\"color: #000000; text-decoration-color: #000000; font-weight: bold\">(</span><span style=\"color: #008000; text-decoration-color: #008000\">'127.0.0.1'</span><span style=\"color: #000000; text-decoration-color: #000000\">, </span><span style=\"color: #008080; text-decoration-color: #008080; font-weight: bold\">4442</span><span style=\"color: #000000; text-decoration-color: #000000; font-weight: bold\">)</span><span style=\"color: #000000; text-decoration-color: #000000\">, </span><span style=\"color: #808000; text-decoration-color: #808000\">raddr</span><span style=\"color: #000000; text-decoration-color: #000000\">=</span><span style=\"color: #000000; text-decoration-color: #000000; font-weight: bold\">(</span><span style=\"color: #008000; text-decoration-color: #008000\">'127.0.0.1'</span><span style=\"color: #000000; text-decoration-color: #000000\">, </span><span style=\"color: #008080; text-decoration-color: #008080; font-weight: bold\">55843</span><span style=\"color: #000000; text-decoration-color: #000000; font-weight: bold\">)</span><span style=\"font-weight: bold\">&gt;</span>             <span style=\"color: #7f7f7f; text-decoration-color: #7f7f7f\">          </span>\n",
       "</pre>\n"
      ],
      "text/plain": [
       "\u001b[2;36m[17:05:11]\u001b[0m\u001b[2;36m \u001b[0m\u001b[1;35m[\u001b[0m\u001b[1;35mSERVER\u001b[0m\u001b[1;35m]\u001b[0m New connection from addr: \u001b[1m(\u001b[0m\u001b[32m'127.0.0.1'\u001b[0m, \u001b[1;36m55843\u001b[0m\u001b[1m)\u001b[0m, client_socket: \u001b[1m<\u001b[0m\u001b[1;95msocket.socket\u001b[0m\u001b[39m \u001b[0m\u001b[33mfd\u001b[0m\u001b[39m=\u001b[0m\u001b[1;36m75\u001b[0m\u001b[39m,\u001b[0m \u001b[2mlogs.py\u001b[0m\u001b[2m:\u001b[0m\u001b[2m11\u001b[0m\n",
       "\u001b[2;36m           \u001b[0m\u001b[33mfamily\u001b[0m\u001b[39m=\u001b[0m\u001b[1;36m2\u001b[0m\u001b[39m, \u001b[0m\u001b[33mtype\u001b[0m\u001b[39m=\u001b[0m\u001b[1;36m1\u001b[0m\u001b[39m, \u001b[0m\u001b[33mproto\u001b[0m\u001b[39m=\u001b[0m\u001b[1;36m0\u001b[0m\u001b[39m, \u001b[0m\u001b[33mladdr\u001b[0m\u001b[39m=\u001b[0m\u001b[1;39m(\u001b[0m\u001b[32m'127.0.0.1'\u001b[0m\u001b[39m, \u001b[0m\u001b[1;36m4442\u001b[0m\u001b[1;39m)\u001b[0m\u001b[39m, \u001b[0m\u001b[33mraddr\u001b[0m\u001b[39m=\u001b[0m\u001b[1;39m(\u001b[0m\u001b[32m'127.0.0.1'\u001b[0m\u001b[39m, \u001b[0m\u001b[1;36m55843\u001b[0m\u001b[1;39m)\u001b[0m\u001b[1m>\u001b[0m             \u001b[2m          \u001b[0m\n"
      ]
     },
     "metadata": {},
     "output_type": "display_data"
    }
   ],
   "source": [
    "s = Server_test()"
   ]
  },
  {
   "cell_type": "code",
   "execution_count": null,
   "id": "bc457caf-9a54-438d-b9c5-df78dc51064d",
   "metadata": {},
   "outputs": [],
   "source": []
  }
 ],
 "metadata": {
  "kernelspec": {
   "display_name": "Python Game (.venv)",
   "language": "python",
   "name": "game"
  },
  "language_info": {
   "codemirror_mode": {
    "name": "ipython",
    "version": 3
   },
   "file_extension": ".py",
   "mimetype": "text/x-python",
   "name": "python",
   "nbconvert_exporter": "python",
   "pygments_lexer": "ipython3",
   "version": "3.13.3"
  }
 },
 "nbformat": 4,
 "nbformat_minor": 5
}

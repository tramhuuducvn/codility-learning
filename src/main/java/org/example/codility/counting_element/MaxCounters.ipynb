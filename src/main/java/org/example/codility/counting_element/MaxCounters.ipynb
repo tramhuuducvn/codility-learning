{
 "cells": [
  {
   "cell_type": "code",
   "execution_count": 1,
   "metadata": {},
   "outputs": [],
   "source": [
    "def solution(N, A):\n",
    "    R = [0]*N\n",
    "    m = 0\n",
    "    b = 0\n",
    "\n",
    "    for i in range(0, len(A)):\n",
    "        if A[i] <= N:\n",
    "            R[A[i] - 1] = max(b, R[A[i] - 1]) + 1\n",
    "            m = max(m, R[A[i] - 1])\n",
    "        else: \n",
    "            b = m\n",
    "\n",
    "    for i in range(0, len(R)):\n",
    "        if(R[i] < b):\n",
    "            R[i] = b\n",
    "    return R        "
   ]
  },
  {
   "cell_type": "code",
   "execution_count": 3,
   "metadata": {},
   "outputs": [
    {
     "data": {
      "text/plain": [
       "[3, 2, 2, 4, 2]"
      ]
     },
     "execution_count": 3,
     "metadata": {},
     "output_type": "execute_result"
    }
   ],
   "source": [
    "N = 5\n",
    "A = [3,4,4,6,1,4,4]\n",
    "solution(N, A)"
   ]
  }
 ],
 "metadata": {
  "kernelspec": {
   "display_name": "Python 3",
   "language": "python",
   "name": "python3"
  },
  "language_info": {
   "codemirror_mode": {
    "name": "ipython",
    "version": 3
   },
   "file_extension": ".py",
   "mimetype": "text/x-python",
   "name": "python",
   "nbconvert_exporter": "python",
   "pygments_lexer": "ipython3",
   "version": "3.11.6"
  }
 },
 "nbformat": 4,
 "nbformat_minor": 2
}

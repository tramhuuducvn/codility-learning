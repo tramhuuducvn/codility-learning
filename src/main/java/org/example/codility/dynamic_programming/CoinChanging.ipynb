{
 "cells": [
  {
   "cell_type": "code",
   "execution_count": 7,
   "metadata": {},
   "outputs": [
    {
     "name": "stdout",
     "output_type": "stream",
     "text": [
      "[0, 1, 2, 1, 2, 1, 2, 3, 2, 3, 2, 3]\n",
      "3\n"
     ]
    }
   ],
   "source": [
    "n, S = map(int, input().split())\n",
    "w = list(map(int, input().split()))\n",
    "dp = [0] * (S + 1)\n",
    "dp[0] = 0\n",
    "\n",
    "for P in range(1, S + 1):\n",
    "    dp[P] = min(dp[P - x] for x in w if x <= P) + 1\n",
    "\n",
    "print(dp)\n",
    "print(dp[S])\n",
    "\n",
    "# Nếu đầu vào như sau: n = 3, S = 11, w = [1, 3, 5]\n",
    "# Thì bảng lời giải cho các bài toán con sẽ lần lượt như sau:\n",
    "# P = 0 |1 |2 |3 |4 |5 |6 |7 |8 |9 |10|11\n",
    "# ------+--+--+--+--+--+--+--+--+--+--+--\n",
    "# k = 0 |1 |2 |1 |2 |1 |2 |3 |2 |3 |2 |3"
   ]
  },
  {
   "cell_type": "code",
   "execution_count": 11,
   "metadata": {},
   "outputs": [
    {
     "name": "stdout",
     "output_type": "stream",
     "text": [
      "[3, 4]\n"
     ]
    }
   ],
   "source": [
    "src = [3, 2, 4, 1, -9]\n",
    "\n",
    "a = [x for x in src if x > 2]\n",
    "print(a)"
   ]
  }
 ],
 "metadata": {
  "kernelspec": {
   "display_name": "Python 3",
   "language": "python",
   "name": "python3"
  },
  "language_info": {
   "codemirror_mode": {
    "name": "ipython",
    "version": 3
   },
   "file_extension": ".py",
   "mimetype": "text/x-python",
   "name": "python",
   "nbconvert_exporter": "python",
   "pygments_lexer": "ipython3",
   "version": "3.11.6"
  }
 },
 "nbformat": 4,
 "nbformat_minor": 2
}
